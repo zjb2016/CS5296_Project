{
 "cells": [
  {
   "cell_type": "code",
   "execution_count": 20,
   "id": "a1063374",
   "metadata": {
    "execution": {
     "iopub.execute_input": "2022-04-18T13:19:14.738884Z",
     "iopub.status.busy": "2022-04-18T13:19:14.738701Z",
     "iopub.status.idle": "2022-04-18T13:19:14.808699Z",
     "shell.execute_reply": "2022-04-18T13:19:14.807978Z",
     "shell.execute_reply.started": "2022-04-18T13:19:14.738861Z"
    },
    "tags": []
   },
   "outputs": [
    {
     "data": {
      "application/vnd.jupyter.widget-view+json": {
       "model_id": "60b4e49a16474ab5aac29fb01c93d8ee",
       "version_major": 2,
       "version_minor": 0
      },
      "text/plain": [
       "VBox()"
      ]
     },
     "metadata": {},
     "output_type": "display_data"
    },
    {
     "data": {
      "application/vnd.jupyter.widget-view+json": {
       "model_id": "",
       "version_major": 2,
       "version_minor": 0
      },
      "text/plain": [
       "FloatProgress(value=0.0, bar_style='info', description='Progress:', layout=Layout(height='25px', width='50%'),…"
      ]
     },
     "metadata": {},
     "output_type": "display_data"
    },
    {
     "name": "stderr",
     "output_type": "stream",
     "text": [
      "An error was encountered:\n",
      "Package already installed for current Spark context!\n",
      "Traceback (most recent call last):\n",
      "  File \"/usr/lib/spark/python/lib/pyspark.zip/pyspark/context.py\", line 1295, in install_pypi_package\n",
      "    raise ValueError(\"Package already installed for current Spark context!\")\n",
      "ValueError: Package already installed for current Spark context!\n",
      "\n"
     ]
    }
   ],
   "source": [
    "sc.install_pypi_package(\"pandas==0.25.1\")\n",
    "sc.install_pypi_package(\"tensorflow_hub\")\n",
    "# sc.list_packages()"
   ]
  },
  {
   "cell_type": "markdown",
   "id": "0926d835-f656-4a78-a42d-8b1d443ed199",
   "metadata": {
    "execution": {
     "iopub.execute_input": "2022-04-18T03:35:20.022111Z",
     "iopub.status.busy": "2022-04-18T03:35:20.021892Z",
     "iopub.status.idle": "2022-04-18T03:35:41.835449Z",
     "shell.execute_reply": "2022-04-18T03:35:41.833347Z",
     "shell.execute_reply.started": "2022-04-18T03:35:20.022087Z"
    }
   },
   "source": [
    "## Read CSV File and Get DataFrame (pyspark)"
   ]
  },
  {
   "cell_type": "code",
   "execution_count": 21,
   "id": "5a9ddbdb",
   "metadata": {
    "execution": {
     "iopub.execute_input": "2022-04-18T13:19:14.810292Z",
     "iopub.status.busy": "2022-04-18T13:19:14.810037Z",
     "iopub.status.idle": "2022-04-18T13:19:24.173418Z",
     "shell.execute_reply": "2022-04-18T13:19:24.172844Z",
     "shell.execute_reply.started": "2022-04-18T13:19:14.810249Z"
    },
    "tags": []
   },
   "outputs": [
    {
     "data": {
      "application/vnd.jupyter.widget-view+json": {
       "model_id": "bcc07e1f4a864064902be3f7bd19b78e",
       "version_major": 2,
       "version_minor": 0
      },
      "text/plain": [
       "VBox()"
      ]
     },
     "metadata": {},
     "output_type": "display_data"
    },
    {
     "data": {
      "application/vnd.jupyter.widget-view+json": {
       "model_id": "",
       "version_major": 2,
       "version_minor": 0
      },
      "text/plain": [
       "FloatProgress(value=0.0, bar_style='info', description='Progress:', layout=Layout(height='25px', width='50%'),…"
      ]
     },
     "metadata": {},
     "output_type": "display_data"
    },
    {
     "name": "stdout",
     "output_type": "stream",
     "text": [
      "root\n",
      " |-- content: string (nullable = true)\n",
      " |-- label: double (nullable = true)\n",
      "\n",
      "+--------------------+-----+\n",
      "|             content|label|\n",
      "+--------------------+-----+\n",
      "|Working with one ...|  0.0|\n",
      "|Well...tremors I,...|  0.0|\n",
      "|Ouch! This one wa...|  0.0|\n",
      "|I've seen some cr...|  0.0|\n",
      "|\"Carriers\" follow...|  0.0|\n",
      "|I had been lookin...|  0.0|\n",
      "|Effect(s) without...|  0.0|\n",
      "|This picture star...|  0.0|\n",
      "|I chose to see th...|  0.0|\n",
      "|This film has to ...|  0.0|\n",
      "|I felt brain dead...|  0.0|\n",
      "|A young scientist...|  0.0|\n",
      "|Inept, boring, an...|  0.0|\n",
      "|From the first ti...|  0.0|\n",
      "|I find it hard to...|  0.0|\n",
      "|I actually saw Ch...|  0.0|\n",
      "|I went to school ...|  0.0|\n",
      "|I haven't seen th...|  0.0|\n",
      "|I haven't seen an...|  0.0|\n",
      "|One would think t...|  0.0|\n",
      "+--------------------+-----+\n",
      "only showing top 20 rows"
     ]
    }
   ],
   "source": [
    "import pyspark.sql.functions as F\n",
    "import re\n",
    "from pyspark.sql.types import *\n",
    "\n",
    "train_path = \"s3://myprojectsentiment/data/train.csv\"\n",
    "test_path = \"s3://myprojectsentiment/data/test.csv\"\n",
    "\n",
    "def readCSV(path):\n",
    "    df = (spark.read\n",
    "      .option(\"charset\", \"utf-8\")\n",
    "      .option(\"multiline\", \"true\")\n",
    "      .option(\"quote\", '\"')\n",
    "      .option(\"header\", \"true\")\n",
    "      .option(\"escape\", \"\\\\\")\n",
    "      .option(\"escape\", '\"')\n",
    "      .csv(path))\n",
    "    df = df.select([F.col(col).alias(re.sub(\"[^0-9a-zA-Z$]+\",\"\",col)) for col in df.columns])\n",
    "    df = df.withColumn('label', F.col('label').cast(DoubleType()))\n",
    "    return df\n",
    "\n",
    "train_df = readCSV(train_path)\n",
    "test_df = readCSV(test_path)\n",
    "\n",
    "train_df.printSchema()\n",
    "train_df.show()"
   ]
  },
  {
   "cell_type": "code",
   "execution_count": 22,
   "id": "5122e02d-6a4f-4269-8c36-5870473843f1",
   "metadata": {
    "execution": {
     "iopub.execute_input": "2022-04-18T13:19:24.174598Z",
     "iopub.status.busy": "2022-04-18T13:19:24.174444Z",
     "iopub.status.idle": "2022-04-18T13:19:27.448479Z",
     "shell.execute_reply": "2022-04-18T13:19:27.447942Z",
     "shell.execute_reply.started": "2022-04-18T13:19:24.174578Z"
    },
    "tags": []
   },
   "outputs": [
    {
     "data": {
      "application/vnd.jupyter.widget-view+json": {
       "model_id": "1ff7407f9a6d42e6bf46581b4ae398ae",
       "version_major": 2,
       "version_minor": 0
      },
      "text/plain": [
       "VBox()"
      ]
     },
     "metadata": {},
     "output_type": "display_data"
    },
    {
     "data": {
      "application/vnd.jupyter.widget-view+json": {
       "model_id": "",
       "version_major": 2,
       "version_minor": 0
      },
      "text/plain": [
       "FloatProgress(value=0.0, bar_style='info', description='Progress:', layout=Layout(height='25px', width='50%'),…"
      ]
     },
     "metadata": {},
     "output_type": "display_data"
    }
   ],
   "source": [
    "train_data = train_df.toPandas().astype({'label': 'int32'})\n",
    "test_data = test_df.toPandas().astype({'label': 'int32'})\n",
    "\n",
    "train_examples, train_labels = train_data['content'],train_data['label']\n",
    "test_examples, test_labels = test_data['content'],test_data['label']"
   ]
  },
  {
   "cell_type": "code",
   "execution_count": 23,
   "id": "9f0f682b-4a95-4f95-a1db-e54e62ab48f6",
   "metadata": {
    "execution": {
     "iopub.execute_input": "2022-04-18T13:19:27.449665Z",
     "iopub.status.busy": "2022-04-18T13:19:27.449463Z",
     "iopub.status.idle": "2022-04-18T13:19:27.510055Z",
     "shell.execute_reply": "2022-04-18T13:19:27.509476Z",
     "shell.execute_reply.started": "2022-04-18T13:19:27.449642Z"
    },
    "tags": []
   },
   "outputs": [
    {
     "data": {
      "application/vnd.jupyter.widget-view+json": {
       "model_id": "ce94426555c4496583c65168c8fa5190",
       "version_major": 2,
       "version_minor": 0
      },
      "text/plain": [
       "VBox()"
      ]
     },
     "metadata": {},
     "output_type": "display_data"
    },
    {
     "data": {
      "application/vnd.jupyter.widget-view+json": {
       "model_id": "",
       "version_major": 2,
       "version_minor": 0
      },
      "text/plain": [
       "FloatProgress(value=0.0, bar_style='info', description='Progress:', layout=Layout(height='25px', width='50%'),…"
      ]
     },
     "metadata": {},
     "output_type": "display_data"
    }
   ],
   "source": [
    "import numpy as np\n",
    "train_examples = np.asarray(train_examples)\n",
    "test_examples = np.asarray(test_examples)\n",
    "train_labels = np.asarray(train_labels)\n",
    "test_labels = np.asarray(test_labels)"
   ]
  },
  {
   "cell_type": "code",
   "execution_count": 24,
   "id": "360cb6e4-45b2-4a14-9e7b-1edc6c0f7424",
   "metadata": {
    "execution": {
     "iopub.execute_input": "2022-04-18T13:19:27.511194Z",
     "iopub.status.busy": "2022-04-18T13:19:27.511006Z",
     "iopub.status.idle": "2022-04-18T13:19:27.562242Z",
     "shell.execute_reply": "2022-04-18T13:19:27.561664Z",
     "shell.execute_reply.started": "2022-04-18T13:19:27.511170Z"
    },
    "tags": []
   },
   "outputs": [
    {
     "data": {
      "application/vnd.jupyter.widget-view+json": {
       "model_id": "efe7ffdf97b34fc58b9fc29790c3803c",
       "version_major": 2,
       "version_minor": 0
      },
      "text/plain": [
       "VBox()"
      ]
     },
     "metadata": {},
     "output_type": "display_data"
    },
    {
     "data": {
      "application/vnd.jupyter.widget-view+json": {
       "model_id": "",
       "version_major": 2,
       "version_minor": 0
      },
      "text/plain": [
       "FloatProgress(value=0.0, bar_style='info', description='Progress:', layout=Layout(height='25px', width='50%'),…"
      ]
     },
     "metadata": {},
     "output_type": "display_data"
    },
    {
     "name": "stdout",
     "output_type": "stream",
     "text": [
      "array([0, 0, 0, ..., 1, 1, 1], dtype=int32)"
     ]
    }
   ],
   "source": [
    "train_labels"
   ]
  },
  {
   "cell_type": "markdown",
   "id": "d7c5071a-ac87-49ff-96a1-2ef9cf95c64b",
   "metadata": {},
   "source": [
    "## Neural Network"
   ]
  },
  {
   "cell_type": "code",
   "execution_count": 25,
   "id": "1e3a78b6-a77c-4fc1-9595-fffd2b10bd64",
   "metadata": {
    "execution": {
     "iopub.execute_input": "2022-04-18T13:19:27.563339Z",
     "iopub.status.busy": "2022-04-18T13:19:27.563142Z",
     "iopub.status.idle": "2022-04-18T13:19:27.815514Z",
     "shell.execute_reply": "2022-04-18T13:19:27.814911Z",
     "shell.execute_reply.started": "2022-04-18T13:19:27.563317Z"
    },
    "tags": []
   },
   "outputs": [
    {
     "data": {
      "application/vnd.jupyter.widget-view+json": {
       "model_id": "cf7bbadc645f456dbf3227011a14f36d",
       "version_major": 2,
       "version_minor": 0
      },
      "text/plain": [
       "VBox()"
      ]
     },
     "metadata": {},
     "output_type": "display_data"
    },
    {
     "data": {
      "application/vnd.jupyter.widget-view+json": {
       "model_id": "",
       "version_major": 2,
       "version_minor": 0
      },
      "text/plain": [
       "FloatProgress(value=0.0, bar_style='info', description='Progress:', layout=Layout(height='25px', width='50%'),…"
      ]
     },
     "metadata": {},
     "output_type": "display_data"
    }
   ],
   "source": [
    "import tensorflow as tf\n",
    "import tensorflow_hub as hub"
   ]
  },
  {
   "cell_type": "markdown",
   "id": "a84ddaa4-f205-4f59-9a01-435d78794089",
   "metadata": {},
   "source": [
    "One way to represent the text is to convert sentences into embeddings vectors. We can use a pre-trained text embedding as the first layer, which will have two advantages:\n",
    "\n",
    "we don't have to worry about text preprocessing,\n",
    "we can benefit from transfer learning.\n",
    "Here we will use a model from TensorFlow Hub called google/nnlm-en-dim50/2."
   ]
  },
  {
   "cell_type": "code",
   "execution_count": 26,
   "id": "e36b8773-8934-4455-a3e3-aecd09f13080",
   "metadata": {
    "execution": {
     "iopub.execute_input": "2022-04-18T13:19:27.817181Z",
     "iopub.status.busy": "2022-04-18T13:19:27.816980Z",
     "iopub.status.idle": "2022-04-18T13:19:30.103919Z",
     "shell.execute_reply": "2022-04-18T13:19:30.095558Z",
     "shell.execute_reply.started": "2022-04-18T13:19:27.817157Z"
    },
    "tags": []
   },
   "outputs": [
    {
     "data": {
      "application/vnd.jupyter.widget-view+json": {
       "model_id": "ff68c7b44af14821a1e43f01290503bc",
       "version_major": 2,
       "version_minor": 0
      },
      "text/plain": [
       "VBox()"
      ]
     },
     "metadata": {},
     "output_type": "display_data"
    },
    {
     "data": {
      "application/vnd.jupyter.widget-view+json": {
       "model_id": "",
       "version_major": 2,
       "version_minor": 0
      },
      "text/plain": [
       "FloatProgress(value=0.0, bar_style='info', description='Progress:', layout=Layout(height='25px', width='50%'),…"
      ]
     },
     "metadata": {},
     "output_type": "display_data"
    },
    {
     "name": "stdout",
     "output_type": "stream",
     "text": [
      "<tf.Tensor: shape=(3, 50), dtype=float32, numpy=\n",
      "array([[ 0.30287248,  0.03152315, -0.13984068,  0.25619656, -0.2741541 ,\n",
      "         0.08599555, -0.26031104, -0.20547138, -0.17986763,  0.07881903,\n",
      "         0.00308445, -0.14840184,  0.01973467,  0.27642438,  0.27174598,\n",
      "        -0.31411722,  0.01907233,  0.16445579, -0.07911275, -0.35414273,\n",
      "         0.15555151, -0.32292828,  0.11039259,  0.04350166,  0.0873228 ,\n",
      "        -0.02004656, -0.51341045, -0.17435473,  0.15697853,  0.0375976 ,\n",
      "        -0.04735049,  0.13688873,  0.17165697, -0.19878183, -0.11240551,\n",
      "        -0.01976011,  0.327817  ,  0.06841931,  0.03370661, -0.40007097,\n",
      "        -0.01591244, -0.1395479 , -0.2554904 ,  0.31316546, -0.07917289,\n",
      "        -0.4301121 , -0.02118236, -0.08704337, -0.10098184, -0.07780349],\n",
      "       [ 0.92870265,  0.10013989, -0.12779008,  0.7637115 ,  0.18019122,\n",
      "        -0.11815798,  0.4077077 , -0.11286174, -0.5793166 ,  0.70438725,\n",
      "        -0.11078805,  0.42786193, -0.04827447, -0.07137473, -0.35188085,\n",
      "        -0.22768924, -0.05519368,  0.16658117,  0.30413368, -0.8501705 ,\n",
      "         0.09913297, -0.2035606 ,  0.6787472 ,  0.1476239 , -0.11651712,\n",
      "         0.57258964, -1.3703635 ,  0.16251637, -0.02830671, -0.39487624,\n",
      "        -0.10843199,  0.4402356 ,  0.47827858, -0.4151731 , -0.40304935,\n",
      "         0.13561411,  0.06565557, -0.40468195, -0.02243369, -0.65455234,\n",
      "        -0.25627172,  0.28050467, -0.42455348,  0.1805127 , -0.32952654,\n",
      "        -0.17627282, -0.40800878, -0.4003636 ,  0.47973067, -0.05300009],\n",
      "       [ 0.74304736,  0.06133118, -0.16845103,  0.30058727, -0.18488221,\n",
      "        -0.11399928, -0.06230916, -0.22193803, -0.6447506 ,  0.5708597 ,\n",
      "         0.02270638,  0.25451922, -0.03255963,  0.39364353, -0.16462563,\n",
      "        -0.07892887, -0.18738918,  0.24907069,  0.12948965, -0.7073006 ,\n",
      "         0.0300362 , -0.07933909,  0.56456655,  0.3044851 , -0.00776581,\n",
      "         0.00459185, -0.9890781 ,  0.3125501 ,  0.41020453, -0.4508053 ,\n",
      "        -0.31394106,  0.23547235,  0.47889987, -0.10925119, -0.32413626,\n",
      "         0.38801613,  0.14091049, -0.08810987, -0.02329047, -0.37433335,\n",
      "        -0.1470756 ,  0.3607933 , -0.1731052 ,  0.24818668, -0.32035032,\n",
      "        -0.03170983, -0.5796169 , -0.60268956, -0.09313407, -0.1303431 ]],\n",
      "      dtype=float32)>"
     ]
    }
   ],
   "source": [
    "model = \"https://tfhub.dev/google/nnlm-en-dim50/2\"\n",
    "hub_layer = hub.KerasLayer(model, input_shape=[], dtype=tf.string, trainable=True)\n",
    "hub_layer(train_examples[:3])"
   ]
  },
  {
   "cell_type": "code",
   "execution_count": 27,
   "id": "9fb5eb01-33ba-40f9-a35b-ffbb62f85e4e",
   "metadata": {
    "execution": {
     "iopub.execute_input": "2022-04-18T13:19:30.105523Z",
     "iopub.status.busy": "2022-04-18T13:19:30.105274Z",
     "iopub.status.idle": "2022-04-18T13:19:30.181017Z",
     "shell.execute_reply": "2022-04-18T13:19:30.180124Z",
     "shell.execute_reply.started": "2022-04-18T13:19:30.105486Z"
    },
    "tags": []
   },
   "outputs": [
    {
     "data": {
      "application/vnd.jupyter.widget-view+json": {
       "model_id": "b2b2cd2bea2a42a3b8d7feeb7cb87d10",
       "version_major": 2,
       "version_minor": 0
      },
      "text/plain": [
       "VBox()"
      ]
     },
     "metadata": {},
     "output_type": "display_data"
    },
    {
     "data": {
      "application/vnd.jupyter.widget-view+json": {
       "model_id": "",
       "version_major": 2,
       "version_minor": 0
      },
      "text/plain": [
       "FloatProgress(value=0.0, bar_style='info', description='Progress:', layout=Layout(height='25px', width='50%'),…"
      ]
     },
     "metadata": {},
     "output_type": "display_data"
    },
    {
     "name": "stdout",
     "output_type": "stream",
     "text": [
      "array([0, 0, 0, 0, 0, 0, 0, 0, 0, 0], dtype=int32)"
     ]
    }
   ],
   "source": [
    "train_labels[:10]"
   ]
  },
  {
   "cell_type": "markdown",
   "id": "690602a0-53aa-4176-931f-d93ca70b9e8b",
   "metadata": {},
   "source": [
    "### Build the model"
   ]
  },
  {
   "cell_type": "code",
   "execution_count": 28,
   "id": "2a9f38bd-136c-4d89-a9fb-444d26060ae4",
   "metadata": {
    "execution": {
     "iopub.execute_input": "2022-04-18T13:19:30.182470Z",
     "iopub.status.busy": "2022-04-18T13:19:30.182224Z",
     "iopub.status.idle": "2022-04-18T13:19:30.458893Z",
     "shell.execute_reply": "2022-04-18T13:19:30.458130Z",
     "shell.execute_reply.started": "2022-04-18T13:19:30.182436Z"
    },
    "tags": []
   },
   "outputs": [
    {
     "data": {
      "application/vnd.jupyter.widget-view+json": {
       "model_id": "4b8fd2054d494a7088c0d00dad7110b3",
       "version_major": 2,
       "version_minor": 0
      },
      "text/plain": [
       "VBox()"
      ]
     },
     "metadata": {},
     "output_type": "display_data"
    },
    {
     "data": {
      "application/vnd.jupyter.widget-view+json": {
       "model_id": "",
       "version_major": 2,
       "version_minor": 0
      },
      "text/plain": [
       "FloatProgress(value=0.0, bar_style='info', description='Progress:', layout=Layout(height='25px', width='50%'),…"
      ]
     },
     "metadata": {},
     "output_type": "display_data"
    },
    {
     "name": "stdout",
     "output_type": "stream",
     "text": [
      "Model: \"sequential_1\"\n",
      "_________________________________________________________________\n",
      "Layer (type)                 Output Shape              Param #   \n",
      "=================================================================\n",
      "keras_layer (KerasLayer)     (None, 50)                48190600  \n",
      "_________________________________________________________________\n",
      "dense (Dense)                (None, 16)                816       \n",
      "_________________________________________________________________\n",
      "dense_1 (Dense)              (None, 1)                 17        \n",
      "=================================================================\n",
      "Total params: 48,191,433\n",
      "Trainable params: 48,191,433\n",
      "Non-trainable params: 0\n",
      "_________________________________________________________________"
     ]
    }
   ],
   "source": [
    "model = tf.keras.Sequential()\n",
    "model.add(hub_layer)\n",
    "model.add(tf.keras.layers.Dense(16, activation='relu'))\n",
    "model.add(tf.keras.layers.Dense(1))\n",
    "\n",
    "model.summary()"
   ]
  },
  {
   "cell_type": "code",
   "execution_count": 29,
   "id": "a2725729-da69-4486-9fd1-83a376a3c45d",
   "metadata": {
    "execution": {
     "iopub.execute_input": "2022-04-18T13:19:30.460430Z",
     "iopub.status.busy": "2022-04-18T13:19:30.460151Z",
     "iopub.status.idle": "2022-04-18T13:19:30.734435Z",
     "shell.execute_reply": "2022-04-18T13:19:30.733730Z",
     "shell.execute_reply.started": "2022-04-18T13:19:30.460392Z"
    },
    "tags": []
   },
   "outputs": [
    {
     "data": {
      "application/vnd.jupyter.widget-view+json": {
       "model_id": "9c401a739d564b9fa122da8c2f146bba",
       "version_major": 2,
       "version_minor": 0
      },
      "text/plain": [
       "VBox()"
      ]
     },
     "metadata": {},
     "output_type": "display_data"
    },
    {
     "data": {
      "application/vnd.jupyter.widget-view+json": {
       "model_id": "",
       "version_major": 2,
       "version_minor": 0
      },
      "text/plain": [
       "FloatProgress(value=0.0, bar_style='info', description='Progress:', layout=Layout(height='25px', width='50%'),…"
      ]
     },
     "metadata": {},
     "output_type": "display_data"
    }
   ],
   "source": [
    "model.compile(optimizer='adam',\n",
    "              loss=tf.losses.BinaryCrossentropy(from_logits=True),\n",
    "              metrics=[tf.metrics.BinaryAccuracy(threshold=0.0, name='accuracy')])"
   ]
  },
  {
   "cell_type": "markdown",
   "id": "c839220b-08ab-40c1-b576-aac0480888e7",
   "metadata": {},
   "source": [
    "### Split validation data"
   ]
  },
  {
   "cell_type": "code",
   "execution_count": 30,
   "id": "26043632-605e-4290-a6e4-14549747c10f",
   "metadata": {
    "execution": {
     "iopub.execute_input": "2022-04-18T13:19:30.735865Z",
     "iopub.status.busy": "2022-04-18T13:19:30.735685Z",
     "iopub.status.idle": "2022-04-18T13:19:30.801988Z",
     "shell.execute_reply": "2022-04-18T13:19:30.801148Z",
     "shell.execute_reply.started": "2022-04-18T13:19:30.735844Z"
    },
    "tags": []
   },
   "outputs": [
    {
     "data": {
      "application/vnd.jupyter.widget-view+json": {
       "model_id": "41f6e4c4036d47e69a81311719153595",
       "version_major": 2,
       "version_minor": 0
      },
      "text/plain": [
       "VBox()"
      ]
     },
     "metadata": {},
     "output_type": "display_data"
    },
    {
     "data": {
      "application/vnd.jupyter.widget-view+json": {
       "model_id": "",
       "version_major": 2,
       "version_minor": 0
      },
      "text/plain": [
       "FloatProgress(value=0.0, bar_style='info', description='Progress:', layout=Layout(height='25px', width='50%'),…"
      ]
     },
     "metadata": {},
     "output_type": "display_data"
    }
   ],
   "source": [
    "x_val = train_examples[:10000]\n",
    "partial_x_train = train_examples[10000:]\n",
    "\n",
    "y_val = train_labels[:10000]\n",
    "partial_y_train = train_labels[10000:]"
   ]
  },
  {
   "cell_type": "code",
   "execution_count": null,
   "id": "78840a81-644e-499a-b7a0-cff169e93472",
   "metadata": {
    "execution": {
     "iopub.execute_input": "2022-04-18T13:19:30.804269Z",
     "iopub.status.busy": "2022-04-18T13:19:30.803887Z",
     "iopub.status.idle": "2022-04-18T13:28:16.419699Z"
    },
    "tags": []
   },
   "outputs": [
    {
     "data": {
      "application/vnd.jupyter.widget-view+json": {
       "model_id": "b38cfe298b214acd86810697ba144a7b",
       "version_major": 2,
       "version_minor": 0
      },
      "text/plain": [
       "VBox()"
      ]
     },
     "metadata": {},
     "output_type": "display_data"
    },
    {
     "data": {
      "application/vnd.jupyter.widget-view+json": {
       "model_id": "",
       "version_major": 2,
       "version_minor": 0
      },
      "text/plain": [
       "FloatProgress(value=0.0, bar_style='info', description='Progress:', layout=Layout(height='25px', width='50%'),…"
      ]
     },
     "metadata": {},
     "output_type": "display_data"
    },
    {
     "name": "stdout",
     "output_type": "stream",
     "text": [
      "Epoch 1/40\n",
      "30/30 [==============================] - 15s 451ms/step - loss: 0.5214 - accuracy: 0.8238 - val_loss: 1.7405 - val_accuracy: 2.0000e-04\n",
      "Epoch 2/40\n",
      "30/30 [==============================] - 13s 422ms/step - loss: 0.4358 - accuracy: 0.8314 - val_loss: 1.5255 - val_accuracy: 3.0000e-04\n",
      "Epoch 3/40\n",
      "30/30 [==============================] - 13s 428ms/step - loss: 0.3888 - accuracy: 0.8278 - val_loss: 1.3652 - val_accuracy: 0.0350\n",
      "Epoch 4/40\n",
      "30/30 [==============================] - 13s 436ms/step - loss: 0.3139 - accuracy: 0.8603 - val_loss: 1.1026 - val_accuracy: 0.2770\n",
      "Epoch 5/40\n",
      "30/30 [==============================] - 12s 402ms/step - loss: 0.2424 - accuracy: 0.9049 - val_loss: 0.9428 - val_accuracy: 0.4647\n",
      "Epoch 6/40\n",
      "30/30 [==============================] - 13s 442ms/step - loss: 0.1774 - accuracy: 0.9414 - val_loss: 0.9343 - val_accuracy: 0.5209\n",
      "Epoch 7/40\n",
      "30/30 [==============================] - 13s 422ms/step - loss: 0.1292 - accuracy: 0.9625 - val_loss: 0.8577 - val_accuracy: 0.5938\n",
      "Epoch 8/40\n",
      "30/30 [==============================] - 13s 426ms/step - loss: 0.0943 - accuracy: 0.9757 - val_loss: 0.8870 - val_accuracy: 0.6052\n",
      "Epoch 9/40\n",
      "30/30 [==============================] - 13s 439ms/step - loss: 0.0672 - accuracy: 0.9865 - val_loss: 0.9978 - val_accuracy: 0.5897\n",
      "Epoch 10/40\n",
      "30/30 [==============================] - 15s 489ms/step - loss: 0.0467 - accuracy: 0.9935 - val_loss: 1.0440 - val_accuracy: 0.5952\n",
      "Epoch 11/40\n",
      "30/30 [==============================] - 13s 441ms/step - loss: 0.0337 - accuracy: 0.9968 - val_loss: 1.0950 - val_accuracy: 0.5982\n",
      "Epoch 12/40\n",
      "30/30 [==============================] - 12s 406ms/step - loss: 0.0243 - accuracy: 0.9976 - val_loss: 1.1495 - val_accuracy: 0.6000\n",
      "Epoch 13/40\n",
      "30/30 [==============================] - 14s 447ms/step - loss: 0.0175 - accuracy: 0.9991 - val_loss: 1.2555 - val_accuracy: 0.5866\n",
      "Epoch 14/40\n",
      "30/30 [==============================] - 12s 408ms/step - loss: 0.0141 - accuracy: 0.9993 - val_loss: 1.2276 - val_accuracy: 0.6040\n",
      "Epoch 15/40\n",
      "30/30 [==============================] - 13s 439ms/step - loss: 0.0113 - accuracy: 0.9995 - val_loss: 1.3328 - val_accuracy: 0.5912\n",
      "Epoch 16/40\n",
      "30/30 [==============================] - 13s 429ms/step - loss: 0.0083 - accuracy: 0.9999 - val_loss: 1.3708 - val_accuracy: 0.5933\n",
      "Epoch 17/40\n",
      "30/30 [==============================] - 12s 408ms/step - loss: 0.0070 - accuracy: 0.9999 - val_loss: 1.3787 - val_accuracy: 0.5999\n",
      "Epoch 18/40\n",
      "30/30 [==============================] - 13s 442ms/step - loss: 0.0057 - accuracy: 0.9999 - val_loss: 1.4409 - val_accuracy: 0.5930\n",
      "Epoch 19/40\n",
      "30/30 [==============================] - 12s 396ms/step - loss: 0.0048 - accuracy: 0.9999 - val_loss: 1.4875 - val_accuracy: 0.5921\n",
      "Epoch 20/40\n",
      "30/30 [==============================] - 15s 501ms/step - loss: 0.0041 - accuracy: 0.9999 - val_loss: 1.5446 - val_accuracy: 0.5878\n",
      "Epoch 21/40\n",
      "30/30 [==============================] - 12s 405ms/step - loss: 0.0039 - accuracy: 0.9997 - val_loss: 1.5017 - val_accuracy: 0.6029\n",
      "Epoch 22/40\n",
      "30/30 [==============================] - 13s 432ms/step - loss: 0.0028 - accuracy: 1.0000 - val_loss: 1.5191 - val_accuracy: 0.6046\n",
      "Epoch 23/40\n",
      "30/30 [==============================] - 13s 429ms/step - loss: 0.0024 - accuracy: 1.0000 - val_loss: 1.5637 - val_accuracy: 0.6021\n",
      "Epoch 24/40\n",
      "30/30 [==============================] - 13s 435ms/step - loss: 0.0021 - accuracy: 1.0000 - val_loss: 1.5851 - val_accuracy: 0.6037\n",
      "Epoch 25/40\n",
      "30/30 [==============================] - 13s 437ms/step - loss: 0.0019 - accuracy: 1.0000 - val_loss: 1.6809 - val_accuracy: 0.5934\n",
      "Epoch 26/40\n",
      "30/30 [==============================] - 12s 409ms/step - loss: 0.0017 - accuracy: 1.0000 - val_loss: 1.6998 - val_accuracy: 0.5947\n",
      "Epoch 27/40\n",
      "30/30 [==============================] - 13s 444ms/step - loss: 0.0015 - accuracy: 1.0000 - val_loss: 1.7488 - val_accuracy: 0.5916\n",
      "Epoch 28/40\n",
      "30/30 [==============================] - 12s 399ms/step - loss: 0.0013 - accuracy: 1.0000 - val_loss: 1.7448 - val_accuracy: 0.5960\n",
      "Epoch 29/40\n",
      "30/30 [==============================] - 13s 447ms/step - loss: 0.0012 - accuracy: 1.0000 - val_loss: 1.7794 - val_accuracy: 0.5947\n",
      "Epoch 30/40\n",
      "30/30 [==============================] - 15s 492ms/step - loss: 0.0010 - accuracy: 1.0000 - val_loss: 1.7698 - val_accuracy: 0.5993\n",
      "Epoch 31/40\n",
      "30/30 [==============================] - 13s 431ms/step - loss: 8.9847e-04 - accuracy: 1.0000 - val_loss: 1.7914 - val_accuracy: 0.5993\n",
      "Epoch 32/40\n",
      "30/30 [==============================] - 13s 423ms/step - loss: 8.5169e-04 - accuracy: 1.0000 - val_loss: 1.7990 - val_accuracy: 0.6020\n",
      "Epoch 33/40\n",
      "30/30 [==============================] - 13s 422ms/step - loss: 7.5608e-04 - accuracy: 1.0000 - val_loss: 1.8163 - val_accuracy: 0.6029\n",
      "Epoch 34/40\n",
      "30/30 [==============================] - 13s 440ms/step - loss: 7.1186e-04 - accuracy: 1.0000 - val_loss: 1.8547 - val_accuracy: 0.6008\n",
      "Epoch 35/40\n",
      "30/30 [==============================] - 12s 411ms/step - loss: 6.5454e-04 - accuracy: 1.0000 - val_loss: 1.8872 - val_accuracy: 0.5986\n",
      "Epoch 36/40\n",
      "30/30 [==============================] - 14s 453ms/step - loss: 5.8051e-04 - accuracy: 1.0000 - val_loss: 1.8946 - val_accuracy: 0.6008\n",
      "Epoch 37/40\n",
      "30/30 [==============================] - 12s 404ms/step - loss: 5.3213e-04 - accuracy: 1.0000 - val_loss: 1.9326 - val_accuracy: 0.5975\n",
      "Epoch 38/40\n",
      "30/30 [==============================] - 13s 444ms/step - loss: 4.9281e-04 - accuracy: 1.0000 - val_loss: 1.9184 - val_accuracy: 0.6037\n",
      "Epoch 39/40\n",
      "30/30 [==============================] - 13s 438ms/step - loss: 4.6690e-04 - accuracy: 1.0000 - val_loss: 1.9609 - val_accuracy: 0.5990\n",
      "Epoch 40/40\n",
      "30/30 [==============================] - 13s 440ms/step - loss: 4.4667e-04 - accuracy: 1.0000 - val_loss: 1.9656 - val_accuracy: 0.6017"
     ]
    }
   ],
   "source": [
    "history = model.fit(partial_x_train,\n",
    "                    partial_y_train,\n",
    "                    epochs=40,\n",
    "                    batch_size=512,\n",
    "                    validation_data=(x_val, y_val),\n",
    "                    verbose=1)"
   ]
  },
  {
   "cell_type": "code",
   "execution_count": null,
   "id": "f580429a-6f0e-4d84-a3e7-18d6707b657c",
   "metadata": {
    "execution": {
     "iopub.execute_input": "2022-04-18T13:28:16.420563Z",
     "iopub.status.busy": "2022-04-18T13:28:16.420409Z",
     "iopub.status.idle": "2022-04-18T13:28:21.763521Z"
    }
   },
   "outputs": [
    {
     "data": {
      "application/vnd.jupyter.widget-view+json": {
       "model_id": "a7dc3a0f615f4e64ad610a7442921933",
       "version_major": 2,
       "version_minor": 0
      },
      "text/plain": [
       "VBox()"
      ]
     },
     "metadata": {},
     "output_type": "display_data"
    },
    {
     "data": {
      "application/vnd.jupyter.widget-view+json": {
       "model_id": "",
       "version_major": 2,
       "version_minor": 0
      },
      "text/plain": [
       "FloatProgress(value=0.0, bar_style='info', description='Progress:', layout=Layout(height='25px', width='50%'),…"
      ]
     },
     "metadata": {},
     "output_type": "display_data"
    },
    {
     "name": "stdout",
     "output_type": "stream",
     "text": [
      "782/782 [==============================] - 5s 7ms/step - loss: 1.0363 - accuracy: 0.7834\n",
      "[1.0363460779190063, 0.7833999991416931]"
     ]
    }
   ],
   "source": [
    "results = model.evaluate(test_examples, test_labels)\n",
    "\n",
    "print(results)"
   ]
  }
 ],
 "metadata": {
  "kernelspec": {
   "display_name": "Python 3 (ipykernel)",
   "language": "python",
   "name": "python3"
  },
  "language_info": {
   "codemirror_mode": {
    "name": "ipython",
    "version": 3
   },
   "file_extension": ".py",
   "mimetype": "text/x-python",
   "name": "python",
   "nbconvert_exporter": "python",
   "pygments_lexer": "ipython3",
   "version": "3.9.7"
  }
 },
 "nbformat": 4,
 "nbformat_minor": 5
}

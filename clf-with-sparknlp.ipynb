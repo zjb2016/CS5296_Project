{
 "cells": [
  {
   "cell_type": "code",
   "execution_count": 17,
   "id": "a1063374",
   "metadata": {
    "execution": {
     "iopub.execute_input": "2022-04-20T08:01:06.367649Z",
     "iopub.status.busy": "2022-04-20T08:01:06.367183Z",
     "iopub.status.idle": "2022-04-20T08:01:06.487802Z",
     "shell.execute_reply": "2022-04-20T08:01:06.486793Z",
     "shell.execute_reply.started": "2022-04-20T08:01:06.367586Z"
    },
    "tags": [],
    "vscode": {
     "languageId": "json"
    }
   },
   "outputs": [
    {
     "data": {
      "application/vnd.jupyter.widget-view+json": {
       "model_id": "9b67d406d62643d289e701b14a435c9c",
       "version_major": 2,
       "version_minor": 0
      },
      "text/plain": [
       "VBox()"
      ]
     },
     "metadata": {},
     "output_type": "display_data"
    },
    {
     "data": {
      "application/vnd.jupyter.widget-view+json": {
       "model_id": "",
       "version_major": 2,
       "version_minor": 0
      },
      "text/plain": [
       "FloatProgress(value=0.0, bar_style='info', description='Progress:', layout=Layout(height='25px', width='50%'),…"
      ]
     },
     "metadata": {},
     "output_type": "display_data"
    }
   ],
   "source": [
    "sc.install_pypi_package(\"pandas==0.25.1\")\n",
    "# sc.install_pypi_package(\"tensorflow_hub\")\n",
    "\n",
    "# sc.list_packages()"
   ]
  },
  {
   "cell_type": "markdown",
   "id": "0926d835-f656-4a78-a42d-8b1d443ed199",
   "metadata": {
    "execution": {
     "iopub.execute_input": "2022-04-18T03:35:20.022111Z",
     "iopub.status.busy": "2022-04-18T03:35:20.021892Z",
     "iopub.status.idle": "2022-04-18T03:35:41.835449Z",
     "shell.execute_reply": "2022-04-18T03:35:41.833347Z",
     "shell.execute_reply.started": "2022-04-18T03:35:20.022087Z"
    }
   },
   "source": [
    "# Read CSV File and Get DataFrame (pyspark)"
   ]
  },
  {
   "cell_type": "code",
   "execution_count": 2,
   "id": "5a9ddbdb",
   "metadata": {
    "execution": {
     "iopub.execute_input": "2022-04-20T07:26:38.176826Z",
     "iopub.status.busy": "2022-04-20T07:26:38.169849Z",
     "iopub.status.idle": "2022-04-20T07:26:55.607188Z",
     "shell.execute_reply": "2022-04-20T07:26:55.606543Z",
     "shell.execute_reply.started": "2022-04-20T07:26:38.176782Z"
    },
    "tags": [],
    "vscode": {
     "languageId": "json"
    }
   },
   "outputs": [
    {
     "data": {
      "application/vnd.jupyter.widget-view+json": {
       "model_id": "4af7bab3644b4aa8944110131da6b3b1",
       "version_major": 2,
       "version_minor": 0
      },
      "text/plain": [
       "VBox()"
      ]
     },
     "metadata": {},
     "output_type": "display_data"
    },
    {
     "data": {
      "application/vnd.jupyter.widget-view+json": {
       "model_id": "",
       "version_major": 2,
       "version_minor": 0
      },
      "text/plain": [
       "FloatProgress(value=0.0, bar_style='info', description='Progress:', layout=Layout(height='25px', width='50%'),…"
      ]
     },
     "metadata": {},
     "output_type": "display_data"
    },
    {
     "name": "stdout",
     "output_type": "stream",
     "text": [
      "root\n",
      " |-- content: string (nullable = true)\n",
      " |-- label: double (nullable = true)\n",
      "\n",
      "+--------------------+-----+\n",
      "|             content|label|\n",
      "+--------------------+-----+\n",
      "|Working with one ...|  0.0|\n",
      "|Well...tremors I,...|  0.0|\n",
      "|Ouch! This one wa...|  0.0|\n",
      "|I've seen some cr...|  0.0|\n",
      "|\"Carriers\" follow...|  0.0|\n",
      "|I had been lookin...|  0.0|\n",
      "|Effect(s) without...|  0.0|\n",
      "|This picture star...|  0.0|\n",
      "|I chose to see th...|  0.0|\n",
      "|This film has to ...|  0.0|\n",
      "|I felt brain dead...|  0.0|\n",
      "|A young scientist...|  0.0|\n",
      "|Inept, boring, an...|  0.0|\n",
      "|From the first ti...|  0.0|\n",
      "|I find it hard to...|  0.0|\n",
      "|I actually saw Ch...|  0.0|\n",
      "|I went to school ...|  0.0|\n",
      "|I haven't seen th...|  0.0|\n",
      "|I haven't seen an...|  0.0|\n",
      "|One would think t...|  0.0|\n",
      "+--------------------+-----+\n",
      "only showing top 20 rows"
     ]
    }
   ],
   "source": [
    "import pyspark.sql.functions as F\n",
    "import re\n",
    "from pyspark.sql.types import *\n",
    "\n",
    "train_path = \"s3://myprojectsentiment/data/train.csv\"\n",
    "test_path = \"s3://myprojectsentiment/data/test.csv\"\n",
    "\n",
    "def readCSV(path):\n",
    "    df = (spark.read\n",
    "      .option(\"charset\", \"utf-8\")\n",
    "      .option(\"multiline\", \"true\")\n",
    "      .option(\"quote\", '\"')\n",
    "      .option(\"header\", \"true\")\n",
    "      .option(\"escape\", \"\\\\\")\n",
    "      .option(\"escape\", '\"')\n",
    "      .csv(path))\n",
    "    df = df.select([F.col(col).alias(re.sub(\"[^0-9a-zA-Z$]+\",\"\",col)) for col in df.columns])\n",
    "    df = df.withColumn('label', F.col('label').cast(DoubleType()))\n",
    "    return df\n",
    "\n",
    "train_df = readCSV(train_path)\n",
    "test_df = readCSV(test_path)\n",
    "\n",
    "train_df.printSchema()\n",
    "train_df.show()"
   ]
  },
  {
   "cell_type": "code",
   "execution_count": 3,
   "id": "9581d1e0-650c-409d-82e8-0bc8ea81764c",
   "metadata": {
    "execution": {
     "iopub.execute_input": "2022-04-20T07:26:55.611952Z",
     "iopub.status.busy": "2022-04-20T07:26:55.610325Z",
     "iopub.status.idle": "2022-04-20T07:26:56.909728Z",
     "shell.execute_reply": "2022-04-20T07:26:56.908680Z",
     "shell.execute_reply.started": "2022-04-20T07:26:55.611915Z"
    },
    "tags": [],
    "vscode": {
     "languageId": "json"
    }
   },
   "outputs": [
    {
     "data": {
      "application/vnd.jupyter.widget-view+json": {
       "model_id": "a27a14c6a4a04719b3a8f7bbe6ad631b",
       "version_major": 2,
       "version_minor": 0
      },
      "text/plain": [
       "VBox()"
      ]
     },
     "metadata": {},
     "output_type": "display_data"
    },
    {
     "data": {
      "application/vnd.jupyter.widget-view+json": {
       "model_id": "",
       "version_major": 2,
       "version_minor": 0
      },
      "text/plain": [
       "FloatProgress(value=0.0, bar_style='info', description='Progress:', layout=Layout(height='25px', width='50%'),…"
      ]
     },
     "metadata": {},
     "output_type": "display_data"
    }
   ],
   "source": [
    "# Import Spark NLP\n",
    "from sparknlp.base import *\n",
    "from sparknlp.annotator import *\n",
    "from sparknlp.pretrained import PretrainedPipeline\n",
    "import sparknlp\n",
    "from pyspark.sql import SparkSession\n",
    "from pyspark.ml import Pipeline# Start Spark Session with Spark NLP\n",
    "from pyspark.ml.feature import HashingTF, IDF, StringIndexer, SQLTransformer,IndexToString\n",
    "from pyspark.ml.classification import LogisticRegression\n",
    "from pyspark.ml.evaluation import MulticlassClassificationEvaluator# convert text column to spark nlp document\n",
    "from pyspark.ml.classification import RandomForestClassifier"
   ]
  },
  {
   "cell_type": "code",
   "execution_count": 4,
   "id": "be282757-e4d4-4147-b2a0-59fd6d4afae5",
   "metadata": {
    "execution": {
     "iopub.execute_input": "2022-04-20T07:26:56.912701Z",
     "iopub.status.busy": "2022-04-20T07:26:56.911924Z",
     "iopub.status.idle": "2022-04-20T07:27:10.315888Z",
     "shell.execute_reply": "2022-04-20T07:27:10.315077Z",
     "shell.execute_reply.started": "2022-04-20T07:26:56.912630Z"
    },
    "tags": []
   },
   "outputs": [
    {
     "data": {
      "application/vnd.jupyter.widget-view+json": {
       "model_id": "b392afce90fb43dcb2d74081502908a1",
       "version_major": 2,
       "version_minor": 0
      },
      "text/plain": [
       "VBox()"
      ]
     },
     "metadata": {},
     "output_type": "display_data"
    },
    {
     "data": {
      "application/vnd.jupyter.widget-view+json": {
       "model_id": "",
       "version_major": 2,
       "version_minor": 0
      },
      "text/plain": [
       "FloatProgress(value=0.0, bar_style='info', description='Progress:', layout=Layout(height='25px', width='50%'),…"
      ]
     },
     "metadata": {},
     "output_type": "display_data"
    }
   ],
   "source": [
    "from pyspark.ml.classification import NaiveBayes\n",
    "from pyspark.ml.evaluation import BinaryClassificationEvaluator\n",
    "from pyspark.ml.tuning import CrossValidator, ParamGridBuilder\n",
    "from pyspark.ml import feature as spark_ft\n",
    "from pyspark.ml.pipeline import PipelineModel\n",
    "import re\n",
    "import numpy as np\n",
    "\n",
    "import tensorflow as tf\n",
    "import tensorflow_hub as hub\n"
   ]
  },
  {
   "cell_type": "markdown",
   "id": "6757fc91-987b-4439-906c-79e1c147ee9d",
   "metadata": {},
   "source": [
    "## Tool Function\n",
    "\n",
    "* Get Best Param from CV\n",
    "* Save model\n",
    "* Load Model"
   ]
  },
  {
   "cell_type": "code",
   "execution_count": 21,
   "id": "a3747578",
   "metadata": {
    "execution": {
     "iopub.execute_input": "2022-04-20T08:04:05.689435Z",
     "iopub.status.busy": "2022-04-20T08:04:05.688985Z",
     "iopub.status.idle": "2022-04-20T08:04:05.783813Z",
     "shell.execute_reply": "2022-04-20T08:04:05.782811Z",
     "shell.execute_reply.started": "2022-04-20T08:04:05.689375Z"
    },
    "tags": []
   },
   "outputs": [
    {
     "data": {
      "application/vnd.jupyter.widget-view+json": {
       "model_id": "6c2168eda9e34fa1886cfd355dcd31f3",
       "version_major": 2,
       "version_minor": 0
      },
      "text/plain": [
       "VBox()"
      ]
     },
     "metadata": {},
     "output_type": "display_data"
    },
    {
     "data": {
      "application/vnd.jupyter.widget-view+json": {
       "model_id": "",
       "version_major": 2,
       "version_minor": 0
      },
      "text/plain": [
       "FloatProgress(value=0.0, bar_style='info', description='Progress:', layout=Layout(height='25px', width='50%'),…"
      ]
     },
     "metadata": {},
     "output_type": "display_data"
    }
   ],
   "source": [
    "def printBestParams(cvModel):\n",
    "    hyperparams = cvModel.getEstimatorParamMaps()[np.argmax(cvModel.avgMetrics)]\n",
    "    hyper_list = []\n",
    "\n",
    "    for i in range(len(hyperparams.items())):\n",
    "        hyper_name = re.search(\"name='(.+?)'\", str([x for x in hyperparams.items()][i])).group(1)\n",
    "        hyper_value = [x for x in hyperparams.items()][i][1]\n",
    "\n",
    "        hyper_list.append({hyper_name: hyper_value})\n",
    "\n",
    "    print(hyper_list)\n",
    "    \n",
    "    \n",
    "def savemodel(bestModel,mPath):\n",
    "    bestModel.write().overwrite().save(mPath)\n",
    "\n",
    "    \n",
    "def readmodel(mPath,test_df):\n",
    "    persistedModel = PipelineModel.load(mPath)\n",
    "    # predict\n",
    "    predictionsDF = persistedModel.transform(test_df)\n",
    "    return predictionsDF"
   ]
  },
  {
   "cell_type": "markdown",
   "id": "cf9348b0-9519-4271-8266-aca9d73d524e",
   "metadata": {},
   "source": [
    "# Preprocess PipeLine "
   ]
  },
  {
   "cell_type": "markdown",
   "id": "57454d8c-2579-4bd4-8221-1ee787af789b",
   "metadata": {},
   "source": [
    "I use Sparknlp to do the preprocess, detail info can be seen here :https://github.com/JohnSnowLabs/spark-nlp-workshop/blob/master/tutorials/Certification_Trainings/Public/2.Text_Preprocessing_with_SparkNLP_Annotators_Transformers.ipynb"
   ]
  },
  {
   "cell_type": "code",
   "execution_count": 6,
   "id": "f62726cf-cea8-4311-8672-3a97fa1abda4",
   "metadata": {
    "execution": {
     "iopub.execute_input": "2022-04-20T04:29:20.913315Z",
     "iopub.status.busy": "2022-04-20T04:29:20.913151Z",
     "iopub.status.idle": "2022-04-20T04:29:20.977608Z",
     "shell.execute_reply": "2022-04-20T04:29:20.976731Z",
     "shell.execute_reply.started": "2022-04-20T04:29:20.913293Z"
    },
    "tags": []
   },
   "outputs": [
    {
     "data": {
      "application/vnd.jupyter.widget-view+json": {
       "model_id": "bbd8703393224b12bcc942dc05685ebf",
       "version_major": 2,
       "version_minor": 0
      },
      "text/plain": [
       "VBox()"
      ]
     },
     "metadata": {},
     "output_type": "display_data"
    },
    {
     "data": {
      "application/vnd.jupyter.widget-view+json": {
       "model_id": "",
       "version_major": 2,
       "version_minor": 0
      },
      "text/plain": [
       "FloatProgress(value=0.0, bar_style='info', description='Progress:', layout=Layout(height='25px', width='50%'),…"
      ]
     },
     "metadata": {},
     "output_type": "display_data"
    }
   ],
   "source": [
    "document_assembler = DocumentAssembler() \\\n",
    "    .setInputCol(\"content\") \\\n",
    "    .setOutputCol(\"document\")\n",
    "\n",
    "sentenceDetector = SentenceDetector()\\\n",
    "    .setInputCols(['document'])\\\n",
    "    .setOutputCol('sentences')\n",
    "\n",
    "# convert document to array of tokens\n",
    "tokenizer = Tokenizer() \\\n",
    "  .setInputCols([\"sentences\"]) \\\n",
    "  .setOutputCol(\"token\")\n",
    " \n",
    "# clean tokens \n",
    "normalizer = Normalizer() \\\n",
    "    .setInputCols([\"token\"]) \\\n",
    "    .setOutputCol(\"normalized\")\\\n",
    "    .setLowercase(True)\\\n",
    "    .setCleanupPatterns([\"[^\\w\\d\\s]\"]) # remove punctuations (keep alphanumeric chars)\n",
    "    # if we don't set CleanupPatterns, it will only keep alphabet letters ([^A-Za-z])\n",
    "\n",
    "# remove stopwords\n",
    "stopwords_cleaner = StopWordsCleaner()\\\n",
    "      .setInputCols(\"normalized\")\\\n",
    "      .setOutputCol(\"cleanTokens\")\\\n",
    "      .setCaseSensitive(False)\n",
    "\n",
    "# stems tokens to bring it to root form\n",
    "stemmer = Stemmer() \\\n",
    "    .setInputCols([\"cleanTokens\"]) \\\n",
    "    .setOutputCol(\"stem\")\n",
    "\n",
    "tokenassembler = TokenAssembler()\\\n",
    "    .setInputCols([\"sentences\", \"stem\"]) \\\n",
    "    .setOutputCol(\"clean_text\")\n",
    "\n",
    "# Convert custom document structure to array of tokens.\n",
    "finisher = Finisher() \\\n",
    "    .setInputCols([\"stem\"]) \\\n",
    "    .setOutputCols([\"token_features\"]) \\\n",
    "    .setOutputAsArray(True) \\\n",
    "    .setCleanAnnotations(False)\n",
    "\n",
    "preprocess_pipeline = Pipeline(\n",
    "    stages=[document_assembler, \n",
    "            sentenceDetector,\n",
    "            tokenizer,\n",
    "            normalizer,\n",
    "            stopwords_cleaner, \n",
    "            stemmer, \n",
    "            tokenassembler,\n",
    "            finisher\n",
    "           ])\n",
    "\n",
    "preprocess_model = preprocess_pipeline.fit(train_df)\n",
    "processed_train = preprocess_model.transform(train_df).persist()\n",
    "processed_test = preprocess_model.transform(test_df).persist()\n",
    "\n",
    "print(processed_train.count())\n",
    "print(processed_test.count())\n",
    "\n",
    "processed_train.select('content','label','clean_text','token_features').show(5)\n",
    "preprocess_model.write().overwrite().save('s3://myprojectsentiment/preproces/preprocess_model')"
   ]
  },
  {
   "cell_type": "markdown",
   "id": "fe7861ad",
   "metadata": {},
   "source": [
    "### Read processed content"
   ]
  },
  {
   "cell_type": "code",
   "execution_count": 22,
   "id": "18a53a3d-939a-4636-af8c-a10d65a7fa6e",
   "metadata": {
    "execution": {
     "iopub.execute_input": "2022-04-20T08:04:11.185415Z",
     "iopub.status.busy": "2022-04-20T08:04:11.185035Z",
     "iopub.status.idle": "2022-04-20T08:04:52.713781Z",
     "shell.execute_reply": "2022-04-20T08:04:52.712842Z",
     "shell.execute_reply.started": "2022-04-20T08:04:11.185378Z"
    },
    "tags": []
   },
   "outputs": [
    {
     "data": {
      "application/vnd.jupyter.widget-view+json": {
       "model_id": "d1022b87f2274bddb68594d965359726",
       "version_major": 2,
       "version_minor": 0
      },
      "text/plain": [
       "VBox()"
      ]
     },
     "metadata": {},
     "output_type": "display_data"
    },
    {
     "data": {
      "application/vnd.jupyter.widget-view+json": {
       "model_id": "",
       "version_major": 2,
       "version_minor": 0
      },
      "text/plain": [
       "FloatProgress(value=0.0, bar_style='info', description='Progress:', layout=Layout(height='25px', width='50%'),…"
      ]
     },
     "metadata": {},
     "output_type": "display_data"
    }
   ],
   "source": [
    "processed_train = readmodel('s3://myprojectsentiment/preproces/preprocess_model', train_df)\n",
    "processed_test = readmodel('s3://myprojectsentiment/preproces/preprocess_model', test_df)"
   ]
  },
  {
   "cell_type": "markdown",
   "id": "fea8b24b-9a0f-45d2-9a76-f1e382bc9afc",
   "metadata": {},
   "source": [
    "## Feature Extracion"
   ]
  },
  {
   "cell_type": "markdown",
   "id": "00540d34-6896-41bf-bdd1-79fe8da0c684",
   "metadata": {},
   "source": [
    "### Convert to TF IDF model\n",
    "\n",
    "- **Term-Frequency Inverse Document Frequency (TF-IDF)**\n"
   ]
  },
  {
   "cell_type": "code",
   "execution_count": 8,
   "id": "5aefe412-35e3-4282-b295-8fd62772243a",
   "metadata": {
    "execution": {
     "iopub.execute_input": "2022-04-20T05:03:59.314410Z",
     "iopub.status.busy": "2022-04-20T05:03:59.314240Z",
     "iopub.status.idle": "2022-04-20T05:03:59.387656Z",
     "shell.execute_reply": "2022-04-20T05:03:59.386839Z",
     "shell.execute_reply.started": "2022-04-20T05:03:59.314389Z"
    },
    "tags": []
   },
   "outputs": [
    {
     "data": {
      "application/vnd.jupyter.widget-view+json": {
       "model_id": "4462381595d64c83b7b2a989b8b99346",
       "version_major": 2,
       "version_minor": 0
      },
      "text/plain": [
       "VBox()"
      ]
     },
     "metadata": {},
     "output_type": "display_data"
    },
    {
     "data": {
      "application/vnd.jupyter.widget-view+json": {
       "model_id": "",
       "version_major": 2,
       "version_minor": 0
      },
      "text/plain": [
       "FloatProgress(value=0.0, bar_style='info', description='Progress:', layout=Layout(height='25px', width='50%'),…"
      ]
     },
     "metadata": {},
     "output_type": "display_data"
    }
   ],
   "source": [
    "# To generate Term Frequency , 1500 is selected by cv\n",
    "tf = HashingTF(inputCol=\"token_features\", outputCol=\"tf\", numFeatures=1500)\n",
    "# To generate Inverse Document Frequency\n",
    "idf = IDF(inputCol=\"tf\", outputCol=\"features\", minDocFreq=5)\n",
    "\n",
    "feature_pipeline = Pipeline(stages=[tf, idf])\n",
    "feature_model = feature_pipeline.fit(processed_train)\n",
    "\n",
    "tran_data = feature_model.transform(processed_train).persist()\n",
    "test_data = feature_model.transform(processed_test).persist()\n",
    "\n",
    "tran_data.select('content','label','features').show(5)\n",
    "# tran_data.printSchema()\n",
    "\n",
    "feature_model.write().overwrite().save('s3://myprojectsentiment/preproces/tf_model')"
   ]
  },
  {
   "cell_type": "markdown",
   "id": "937ac7d7-61ef-4db0-86b7-724992c1a5a2",
   "metadata": {},
   "source": [
    "### Word2vec"
   ]
  },
  {
   "cell_type": "code",
   "execution_count": 9,
   "id": "034c3885-1f83-4c72-9250-870fa95271a3",
   "metadata": {
    "execution": {
     "iopub.execute_input": "2022-04-20T05:03:59.389563Z",
     "iopub.status.busy": "2022-04-20T05:03:59.389319Z",
     "iopub.status.idle": "2022-04-20T05:03:59.457899Z",
     "shell.execute_reply": "2022-04-20T05:03:59.456927Z",
     "shell.execute_reply.started": "2022-04-20T05:03:59.389530Z"
    },
    "tags": []
   },
   "outputs": [
    {
     "data": {
      "application/vnd.jupyter.widget-view+json": {
       "model_id": "75dc70d070384b02953551b320b7aff3",
       "version_major": 2,
       "version_minor": 0
      },
      "text/plain": [
       "VBox()"
      ]
     },
     "metadata": {},
     "output_type": "display_data"
    },
    {
     "data": {
      "application/vnd.jupyter.widget-view+json": {
       "model_id": "",
       "version_major": 2,
       "version_minor": 0
      },
      "text/plain": [
       "FloatProgress(value=0.0, bar_style='info', description='Progress:', layout=Layout(height='25px', width='50%'),…"
      ]
     },
     "metadata": {},
     "output_type": "display_data"
    }
   ],
   "source": [
    "# text2vec = spark_ft.Word2Vec(\n",
    "#     vectorSize=50, minCount=5, seed=123, \n",
    "#     inputCol='token_features', outputCol='text_vec', \n",
    "#     windowSize=5, maxSentenceLength=30\n",
    "# )\n",
    "# assembler = spark_ft.VectorAssembler(inputCols=['text_vec'], outputCol='features')\n",
    "\n",
    "# feature_pipeline = Pipeline(stages=[text2vec,assembler])\n",
    "# feature_model2 = feature_pipeline.fit(processed_train)\n",
    "\n",
    "# tran = feature_model2.transform(processed_train).persist()\n",
    "# test = feature_model2.transform(processed_test).persist()\n",
    "\n",
    "# tran.select('content','label','features').show(5)\n",
    "# feature_model2.write().overwrite().save('s3://myprojectsentiment/preproces/word2vec_model')"
   ]
  },
  {
   "cell_type": "markdown",
   "id": "fc4e9b86",
   "metadata": {},
   "source": [
    "### Read processed feature"
   ]
  },
  {
   "cell_type": "code",
   "execution_count": 23,
   "id": "01730aa5-0f33-421b-b712-fa83012b7fcf",
   "metadata": {
    "execution": {
     "iopub.execute_input": "2022-04-20T08:04:52.715522Z",
     "iopub.status.busy": "2022-04-20T08:04:52.715263Z",
     "iopub.status.idle": "2022-04-20T08:05:06.209891Z",
     "shell.execute_reply": "2022-04-20T08:05:06.208985Z",
     "shell.execute_reply.started": "2022-04-20T08:04:52.715488Z"
    },
    "tags": []
   },
   "outputs": [
    {
     "data": {
      "application/vnd.jupyter.widget-view+json": {
       "model_id": "0400a2fc38a640209291830ca2b6fd1d",
       "version_major": 2,
       "version_minor": 0
      },
      "text/plain": [
       "VBox()"
      ]
     },
     "metadata": {},
     "output_type": "display_data"
    },
    {
     "data": {
      "application/vnd.jupyter.widget-view+json": {
       "model_id": "",
       "version_major": 2,
       "version_minor": 0
      },
      "text/plain": [
       "FloatProgress(value=0.0, bar_style='info', description='Progress:', layout=Layout(height='25px', width='50%'),…"
      ]
     },
     "metadata": {},
     "output_type": "display_data"
    },
    {
     "name": "stdout",
     "output_type": "stream",
     "text": [
      "+--------------------+-----+--------------------+\n",
      "|             content|label|            features|\n",
      "+--------------------+-----+--------------------+\n",
      "|Working with one ...|  0.0|(1500,[121,186,24...|\n",
      "|Well...tremors I,...|  0.0|(1500,[0,1,15,29,...|\n",
      "|Ouch! This one wa...|  0.0|(1500,[14,56,83,9...|\n",
      "|I've seen some cr...|  0.0|(1500,[7,10,12,14...|\n",
      "|\"Carriers\" follow...|  0.0|(1500,[0,15,21,29...|\n",
      "+--------------------+-----+--------------------+\n",
      "only showing top 5 rows"
     ]
    }
   ],
   "source": [
    "tf_path = 's3://myprojectsentiment/preproces/tf_model'\n",
    "vec_path = 's3://myprojectsentiment/preproces/word2vec_model'\n",
    "\n",
    "train = readmodel(tf_path, processed_train).select('content','label','features')\n",
    "test = readmodel(tf_path, processed_test).select('content','label','features')\n",
    "\n",
    "# tranvc = readmodel(vec_path, processed_train).select('content','label','features')\n",
    "# testvc = readmodel(vec_path, processed_test).select('content','label','features')\n",
    "\n",
    "train.show(5)"
   ]
  },
  {
   "cell_type": "markdown",
   "id": "a1b3beba-9560-4b40-b916-c364a89ff46d",
   "metadata": {},
   "source": [
    "# Classification Models"
   ]
  },
  {
   "cell_type": "markdown",
   "id": "4162445b-8e42-42b2-a959-c5758619cf92",
   "metadata": {},
   "source": [
    "## Naive Bayes Multinomial with Cross-validation"
   ]
  },
  {
   "cell_type": "code",
   "execution_count": null,
   "id": "62ab20e2-5d7a-402d-a2cf-90636eee4886",
   "metadata": {
    "execution": {
     "iopub.execute_input": "2022-04-20T08:06:26.276870Z",
     "iopub.status.busy": "2022-04-20T08:06:26.276482Z"
    },
    "tags": []
   },
   "outputs": [
    {
     "data": {
      "application/vnd.jupyter.widget-view+json": {
       "model_id": "65e1aa11e4444d02a10298e9d0c2b739",
       "version_major": 2,
       "version_minor": 0
      },
      "text/plain": [
       "VBox()"
      ]
     },
     "metadata": {},
     "output_type": "display_data"
    },
    {
     "data": {
      "application/vnd.jupyter.widget-view+json": {
       "model_id": "2a70ceec359342ccb0605071636186ed",
       "version_major": 2,
       "version_minor": 0
      },
      "text/plain": [
       "FloatProgress(value=0.0, bar_style='info', description='Progress:', layout=Layout(height='25px', width='50%'),…"
      ]
     },
     "metadata": {},
     "output_type": "display_data"
    }
   ],
   "source": [
    "# To generate Term Frequency\n",
    "hashingTF = HashingTF(inputCol=\"token_features\", outputCol=\"rawFeatures\")\n",
    "# To generate Inverse Document Frequency\n",
    "idf = IDF(inputCol=\"rawFeatures\", outputCol=\"features\", minDocFreq=5)\n",
    "\n",
    "# create the trainer and set its parameters\n",
    "nb = NaiveBayes(modelType=\"multinomial\")\n",
    "\n",
    "# this grid will have 2*2 = 4 parameter settings for CrossValidator to choose from.\n",
    "paramGrid = ParamGridBuilder() \\\n",
    "    .addGrid(hashingTF.numFeatures, [1200, 1500]) \\\n",
    "    .addGrid(nb.smoothing, [0.1, 0.01]) \\\n",
    "    .build()\n",
    "\n",
    "pipeline = Pipeline(stages=[hashingTF, idf, nb])\n",
    "\n",
    "crossval = CrossValidator(estimator=pipeline,\n",
    "                          estimatorParamMaps=paramGrid,\n",
    "                          evaluator=BinaryClassificationEvaluator(),\n",
    "                          numFolds=4)  # use 3+ folds in practice\n",
    "\n",
    "# Run cross-validation, and choose the best set of parameters.\n",
    "cvModel = crossval.fit(processed_train)\n",
    "\n",
    "# Make predictions on test documents. cvModel uses the best model found (lrModel).\n",
    "prediction = cvModel.transform(processed_test)\n",
    "selected = prediction.select( \"content\", \"label\", \"prediction\")\n",
    "selected.show(5)\n",
    "\n",
    "savemodel(cvModel.bestModel,\"s3://myprojectsentiment/train_model/NB_tf\")\n",
    "printBestParams(cvModel)"
   ]
  },
  {
   "cell_type": "markdown",
   "id": "ec173b72",
   "metadata": {},
   "source": [
    "### Apply the best Params and predict"
   ]
  },
  {
   "cell_type": "code",
   "execution_count": 12,
   "id": "e0b4c3b2-8213-4ede-aaef-ab6877f93f94",
   "metadata": {
    "execution": {
     "iopub.execute_input": "2022-04-20T04:29:42.647563Z",
     "iopub.status.busy": "2022-04-20T04:29:42.647374Z",
     "iopub.status.idle": "2022-04-20T04:32:46.390204Z",
     "shell.execute_reply": "2022-04-20T04:32:46.389597Z",
     "shell.execute_reply.started": "2022-04-20T04:29:42.647535Z"
    },
    "tags": []
   },
   "outputs": [
    {
     "data": {
      "application/vnd.jupyter.widget-view+json": {
       "model_id": "721a65d4251b4d8092e210e7de0c8700",
       "version_major": 2,
       "version_minor": 0
      },
      "text/plain": [
       "VBox()"
      ]
     },
     "metadata": {},
     "output_type": "display_data"
    },
    {
     "data": {
      "application/vnd.jupyter.widget-view+json": {
       "model_id": "",
       "version_major": 2,
       "version_minor": 0
      },
      "text/plain": [
       "FloatProgress(value=0.0, bar_style='info', description='Progress:', layout=Layout(height='25px', width='50%'),…"
      ]
     },
     "metadata": {},
     "output_type": "display_data"
    },
    {
     "name": "stdout",
     "output_type": "stream",
     "text": [
      "+--------------------+-----+----------+\n",
      "|             content|label|prediction|\n",
      "+--------------------+-----+----------+\n",
      "|Alan Rickman & Em...|  0.0|       0.0|\n",
      "|I have seen this ...|  0.0|       1.0|\n",
      "|In Los Angeles, t...|  0.0|       0.0|\n",
      "|This film is bund...|  0.0|       0.0|\n",
      "|I only comment on...|  0.0|       0.0|\n",
      "+--------------------+-----+----------+\n",
      "only showing top 5 rows"
     ]
    }
   ],
   "source": [
    "# create the trainer and set its parameters\n",
    "nb = NaiveBayes(smoothing=1.0, modelType=\"multinomial\")\n",
    "\n",
    "# train the model\n",
    "model = nb.fit(train)\n",
    "\n",
    "# select example rows to display.\n",
    "predictions = model.transform(test)\n",
    "selected = predictions.select( \"content\", \"label\", \"prediction\")\n",
    "selected.show(5)"
   ]
  },
  {
   "cell_type": "markdown",
   "id": "77536c95-c66d-44ee-aed2-75e2a566dd50",
   "metadata": {},
   "source": [
    "### NB Model Evaluate\n",
    "\n",
    "#### AUC-ROC "
   ]
  },
  {
   "cell_type": "code",
   "execution_count": 13,
   "id": "2941dc3d-9e44-437f-a013-858b235c0808",
   "metadata": {
    "execution": {
     "iopub.execute_input": "2022-04-20T04:32:46.391217Z",
     "iopub.status.busy": "2022-04-20T04:32:46.391049Z",
     "iopub.status.idle": "2022-04-20T04:35:40.109723Z",
     "shell.execute_reply": "2022-04-20T04:35:40.108996Z",
     "shell.execute_reply.started": "2022-04-20T04:32:46.391195Z"
    },
    "tags": []
   },
   "outputs": [
    {
     "data": {
      "application/vnd.jupyter.widget-view+json": {
       "model_id": "e265063fc3594eff9c6f7e0456adfff7",
       "version_major": 2,
       "version_minor": 0
      },
      "text/plain": [
       "VBox()"
      ]
     },
     "metadata": {},
     "output_type": "display_data"
    },
    {
     "data": {
      "application/vnd.jupyter.widget-view+json": {
       "model_id": "",
       "version_major": 2,
       "version_minor": 0
      },
      "text/plain": [
       "FloatProgress(value=0.0, bar_style='info', description='Progress:', layout=Layout(height='25px', width='50%'),…"
      ]
     },
     "metadata": {},
     "output_type": "display_data"
    },
    {
     "name": "stdout",
     "output_type": "stream",
     "text": [
      "Test Accuracy = 0.79236\n",
      "Test Error = 0.20764"
     ]
    }
   ],
   "source": [
    "# compute accuracy on the test set\n",
    "evaluator = BinaryClassificationEvaluator(labelCol=\"label\", rawPredictionCol=\"prediction\", metricName=\"areaUnderROC\")\n",
    "accuracy = evaluator.evaluate(selected)\n",
    "\n",
    "print(\"Test Accuracy = %g\" % (accuracy))\n",
    "print(\"Test Error = %g \" % (1.0 - accuracy))"
   ]
  },
  {
   "cell_type": "markdown",
   "id": "5ce9e69a-76b0-49f1-a1ca-bbcc7b35c104",
   "metadata": {},
   "source": [
    "#### Precision-Recall"
   ]
  },
  {
   "cell_type": "code",
   "execution_count": 14,
   "id": "ffcf6999-3051-47b0-b3e7-2e2207c4b9a9",
   "metadata": {
    "execution": {
     "iopub.execute_input": "2022-04-20T04:35:40.110802Z",
     "iopub.status.busy": "2022-04-20T04:35:40.110597Z",
     "iopub.status.idle": "2022-04-20T04:38:31.809116Z",
     "shell.execute_reply": "2022-04-20T04:38:31.808416Z",
     "shell.execute_reply.started": "2022-04-20T04:35:40.110778Z"
    },
    "tags": []
   },
   "outputs": [
    {
     "data": {
      "application/vnd.jupyter.widget-view+json": {
       "model_id": "db1f7a440b684ff08df22b6938a23120",
       "version_major": 2,
       "version_minor": 0
      },
      "text/plain": [
       "VBox()"
      ]
     },
     "metadata": {},
     "output_type": "display_data"
    },
    {
     "data": {
      "application/vnd.jupyter.widget-view+json": {
       "model_id": "",
       "version_major": 2,
       "version_minor": 0
      },
      "text/plain": [
       "FloatProgress(value=0.0, bar_style='info', description='Progress:', layout=Layout(height='25px', width='50%'),…"
      ]
     },
     "metadata": {},
     "output_type": "display_data"
    },
    {
     "name": "stdout",
     "output_type": "stream",
     "text": [
      "Test Accuracy = 0.769274\n",
      "Test Error = 0.230726"
     ]
    }
   ],
   "source": [
    "# compute accuracy on the test set\n",
    "evaluator = BinaryClassificationEvaluator(labelCol=\"label\", rawPredictionCol=\"prediction\", metricName=\"areaUnderPR\")\n",
    "accuracy = evaluator.evaluate(selected)\n",
    "\n",
    "print(\"Test Accuracy = %g\" % (accuracy))\n",
    "print(\"Test Error = %g \" % (1.0 - accuracy))"
   ]
  },
  {
   "cell_type": "markdown",
   "id": "595adf3c-a41d-42e3-9f46-474a53128264",
   "metadata": {},
   "source": [
    "## Logist Regression with Cross-validation"
   ]
  },
  {
   "cell_type": "code",
   "execution_count": null,
   "id": "05a76d82-49ae-473d-97fa-a1a75d484a04",
   "metadata": {
    "tags": []
   },
   "outputs": [],
   "source": [
    "# To generate Term Frequency\n",
    "hashingTF = HashingTF(inputCol=\"token_features\", outputCol=\"rawFeatures\")\n",
    "\n",
    "# To generate Inverse Document Frequency\n",
    "idf = IDF(inputCol=\"rawFeatures\", outputCol=\"features\", minDocFreq=5)\n",
    "\n",
    "lr = LogisticRegression(maxIter=10)\n",
    "\n",
    "# this grid will have 3*3 = 9 parameter settings for CrossValidator to choose from.\n",
    "paramGrid = ParamGridBuilder() \\\n",
    "    .addGrid(hashingTF.numFeatures, [1000, 1500, 2000]) \\\n",
    "    .addGrid(lr.regParam, [0.1, 0.08, 0.03]) \\\n",
    "    .build()\n",
    "\n",
    "pipeline = Pipeline(stages=[ hashingTF,idf, lr])\n",
    "\n",
    "crossval = CrossValidator(estimator=pipeline,\n",
    "                          estimatorParamMaps=paramGrid,\n",
    "                          evaluator=BinaryClassificationEvaluator(),\n",
    "                          numFolds=4)  # use 3+ folds in practice\n",
    "\n",
    "# Run cross-validation, and choose the best set of parameters.\n",
    "cvModel = crossval.fit(processed_train)\n",
    "\n",
    "# Make predictions on test documents. cvModel uses the best model found (lrModel).\n",
    "prediction = cvModel.transform(processed_test)\n",
    "selected = prediction.select(\"content\", \"label\", \"prediction\")\n",
    "selected.show(5)"
   ]
  },
  {
   "cell_type": "code",
   "execution_count": null,
   "id": "483510e3-17ff-4326-8b1a-8db8a7f419a6",
   "metadata": {
    "tags": []
   },
   "outputs": [],
   "source": [
    "printBestParams(cvModel)\n",
    "\n",
    "savemodel(cvModel.bestModel,'s3://myprojectsentiment/train_model/LR_tf')"
   ]
  },
  {
   "cell_type": "markdown",
   "id": "e03d0e2e",
   "metadata": {},
   "source": [
    "### Apply the best Params and predict"
   ]
  },
  {
   "cell_type": "code",
   "execution_count": 16,
   "id": "f3546e7d-2178-4ef5-b99c-91cd8c7fc449",
   "metadata": {
    "execution": {
     "iopub.execute_input": "2022-04-20T04:38:31.866297Z",
     "iopub.status.busy": "2022-04-20T04:38:31.866125Z",
     "iopub.status.idle": "2022-04-20T04:44:26.021392Z",
     "shell.execute_reply": "2022-04-20T04:44:26.020829Z",
     "shell.execute_reply.started": "2022-04-20T04:38:31.866276Z"
    },
    "tags": []
   },
   "outputs": [
    {
     "data": {
      "application/vnd.jupyter.widget-view+json": {
       "model_id": "95c1a9bd3ce34f3580903527865eb0c4",
       "version_major": 2,
       "version_minor": 0
      },
      "text/plain": [
       "VBox()"
      ]
     },
     "metadata": {},
     "output_type": "display_data"
    },
    {
     "data": {
      "application/vnd.jupyter.widget-view+json": {
       "model_id": "",
       "version_major": 2,
       "version_minor": 0
      },
      "text/plain": [
       "FloatProgress(value=0.0, bar_style='info', description='Progress:', layout=Layout(height='25px', width='50%'),…"
      ]
     },
     "metadata": {},
     "output_type": "display_data"
    },
    {
     "name": "stdout",
     "output_type": "stream",
     "text": [
      "+--------------------+-----+----------+\n",
      "|             content|label|prediction|\n",
      "+--------------------+-----+----------+\n",
      "|Alan Rickman & Em...|  0.0|       0.0|\n",
      "|I have seen this ...|  0.0|       1.0|\n",
      "|In Los Angeles, t...|  0.0|       0.0|\n",
      "|This film is bund...|  0.0|       0.0|\n",
      "|I only comment on...|  0.0|       0.0|\n",
      "+--------------------+-----+----------+\n",
      "only showing top 5 rows"
     ]
    }
   ],
   "source": [
    "lr = LogisticRegression(maxIter=10,regParam=0.1)\n",
    "\n",
    "# train the model\n",
    "model = lr.fit(train)\n",
    "\n",
    "# select example rows to display.\n",
    "predictions = model.transform(test)\n",
    "selected = predictions.select( \"content\", \"label\", \"prediction\")\n",
    "selected.show(5)"
   ]
  },
  {
   "cell_type": "markdown",
   "id": "f7b86555-9845-432d-a51d-8d94f5e16186",
   "metadata": {},
   "source": [
    "### LR Model Evaluate\n",
    "\n",
    "#### AUC-ROC "
   ]
  },
  {
   "cell_type": "code",
   "execution_count": 17,
   "id": "7f1e6fab-e4ad-46f1-920b-197e82d1eae4",
   "metadata": {
    "execution": {
     "iopub.execute_input": "2022-04-20T04:44:26.022521Z",
     "iopub.status.busy": "2022-04-20T04:44:26.022350Z",
     "iopub.status.idle": "2022-04-20T04:47:17.718116Z",
     "shell.execute_reply": "2022-04-20T04:47:17.717551Z",
     "shell.execute_reply.started": "2022-04-20T04:44:26.022500Z"
    },
    "tags": []
   },
   "outputs": [
    {
     "data": {
      "application/vnd.jupyter.widget-view+json": {
       "model_id": "02119f3c5d1b42f4a667d7ad1a3ed036",
       "version_major": 2,
       "version_minor": 0
      },
      "text/plain": [
       "VBox()"
      ]
     },
     "metadata": {},
     "output_type": "display_data"
    },
    {
     "data": {
      "application/vnd.jupyter.widget-view+json": {
       "model_id": "",
       "version_major": 2,
       "version_minor": 0
      },
      "text/plain": [
       "FloatProgress(value=0.0, bar_style='info', description='Progress:', layout=Layout(height='25px', width='50%'),…"
      ]
     },
     "metadata": {},
     "output_type": "display_data"
    },
    {
     "name": "stdout",
     "output_type": "stream",
     "text": [
      "Test Accuracy = 0.82776\n",
      "Test Error = 0.17224"
     ]
    }
   ],
   "source": [
    "# compute accuracy on the test set\n",
    "evaluator = BinaryClassificationEvaluator(labelCol=\"label\", rawPredictionCol=\"prediction\", metricName=\"areaUnderROC\")\n",
    "accuracy = evaluator.evaluate(selected)\n",
    "\n",
    "print(\"Test Accuracy = %g\" % (accuracy))\n",
    "print(\"Test Error = %g \" % (1.0 - accuracy))"
   ]
  },
  {
   "cell_type": "markdown",
   "id": "c8ff00f4-6621-4599-b4ab-f145ba3dde72",
   "metadata": {},
   "source": [
    "#### Precision-Recall"
   ]
  },
  {
   "cell_type": "code",
   "execution_count": 18,
   "id": "fd5bee06-f344-4880-88a2-d28692c2433f",
   "metadata": {
    "execution": {
     "iopub.execute_input": "2022-04-20T04:47:17.719211Z",
     "iopub.status.busy": "2022-04-20T04:47:17.719033Z",
     "iopub.status.idle": "2022-04-20T04:50:11.437814Z",
     "shell.execute_reply": "2022-04-20T04:50:11.437088Z",
     "shell.execute_reply.started": "2022-04-20T04:47:17.719189Z"
    },
    "tags": []
   },
   "outputs": [
    {
     "data": {
      "application/vnd.jupyter.widget-view+json": {
       "model_id": "46bea752f4ee409a95da7092c8e64370",
       "version_major": 2,
       "version_minor": 0
      },
      "text/plain": [
       "VBox()"
      ]
     },
     "metadata": {},
     "output_type": "display_data"
    },
    {
     "data": {
      "application/vnd.jupyter.widget-view+json": {
       "model_id": "",
       "version_major": 2,
       "version_minor": 0
      },
      "text/plain": [
       "FloatProgress(value=0.0, bar_style='info', description='Progress:', layout=Layout(height='25px', width='50%'),…"
      ]
     },
     "metadata": {},
     "output_type": "display_data"
    },
    {
     "name": "stdout",
     "output_type": "stream",
     "text": [
      "Test Accuracy = 0.799082\n",
      "Test Error = 0.200918"
     ]
    }
   ],
   "source": [
    "# compute accuracy on the test set\n",
    "evaluator = BinaryClassificationEvaluator(labelCol=\"label\", rawPredictionCol=\"prediction\", metricName=\"areaUnderPR\")\n",
    "accuracy = evaluator.evaluate(selected)\n",
    "\n",
    "print(\"Test Accuracy = %g\" % (accuracy))\n",
    "print(\"Test Error = %g \" % (1.0 - accuracy))"
   ]
  },
  {
   "cell_type": "markdown",
   "id": "5ac08484-8eb3-471e-92af-bc70096cdccf",
   "metadata": {},
   "source": [
    "## Random Forest with CV"
   ]
  },
  {
   "cell_type": "code",
   "execution_count": 20,
   "id": "901332da-aeee-4c7d-853e-b68fc24184b0",
   "metadata": {
    "execution": {
     "iopub.execute_input": "2022-04-20T04:50:11.488138Z",
     "iopub.status.busy": "2022-04-20T04:50:11.487982Z",
     "iopub.status.idle": "2022-04-20T04:50:11.537675Z",
     "shell.execute_reply": "2022-04-20T04:50:11.536994Z",
     "shell.execute_reply.started": "2022-04-20T04:50:11.488117Z"
    },
    "tags": []
   },
   "outputs": [
    {
     "data": {
      "application/vnd.jupyter.widget-view+json": {
       "model_id": "cb85fb1b3afd404b87b2a24bd01448ca",
       "version_major": 2,
       "version_minor": 0
      },
      "text/plain": [
       "VBox()"
      ]
     },
     "metadata": {},
     "output_type": "display_data"
    },
    {
     "data": {
      "application/vnd.jupyter.widget-view+json": {
       "model_id": "",
       "version_major": 2,
       "version_minor": 0
      },
      "text/plain": [
       "FloatProgress(value=0.0, bar_style='info', description='Progress:', layout=Layout(height='25px', width='50%'),…"
      ]
     },
     "metadata": {},
     "output_type": "display_data"
    }
   ],
   "source": [
    "rf = RandomForestClassifier()\n",
    "\n",
    "# this grid will have 3*3 = 9 parameter settings for CrossValidator to choose from.\n",
    "paramGrid = ParamGridBuilder() \\\n",
    "    .addGrid(rf.numTrees, [80,90,100]) \\\n",
    "    .addGrid(rf.maxDepth, [3, 5]) \\\n",
    "    .build()\n",
    "\n",
    "pipeline = Pipeline(stages=[rf])\n",
    "\n",
    "crossval = CrossValidator(estimator=pipeline,\n",
    "                          estimatorParamMaps=paramGrid,\n",
    "                          evaluator=BinaryClassificationEvaluator(),\n",
    "                          numFolds=4)  # use 3+ folds in practice\n",
    "\n",
    "# Run cross-validation, and choose the best set of parameters.\n",
    "cvModel = crossval.fit(trantf)\n",
    "\n",
    "# Make predictions on test documents. cvModel uses the best model found (lrModel).\n",
    "prediction = cvModel.transform(testtf)\n",
    "selected = prediction.select( \"content\", \"label\", \"prediction\")\n",
    "selected.show(5)"
   ]
  },
  {
   "cell_type": "markdown",
   "id": "8c25a0f1",
   "metadata": {},
   "source": [
    "### Apply the best Params and predict"
   ]
  },
  {
   "cell_type": "code",
   "execution_count": 10,
   "id": "13eda6db",
   "metadata": {
    "execution": {
     "iopub.execute_input": "2022-04-20T05:03:59.459090Z",
     "iopub.status.busy": "2022-04-20T05:03:59.458895Z",
     "iopub.status.idle": "2022-04-20T05:13:08.137144Z",
     "shell.execute_reply": "2022-04-20T05:13:08.136278Z",
     "shell.execute_reply.started": "2022-04-20T05:03:59.459068Z"
    },
    "tags": []
   },
   "outputs": [
    {
     "data": {
      "application/vnd.jupyter.widget-view+json": {
       "model_id": "1d420f51caeb447b99e385e7670afcd4",
       "version_major": 2,
       "version_minor": 0
      },
      "text/plain": [
       "VBox()"
      ]
     },
     "metadata": {},
     "output_type": "display_data"
    },
    {
     "data": {
      "application/vnd.jupyter.widget-view+json": {
       "model_id": "",
       "version_major": 2,
       "version_minor": 0
      },
      "text/plain": [
       "FloatProgress(value=0.0, bar_style='info', description='Progress:', layout=Layout(height='25px', width='50%'),…"
      ]
     },
     "metadata": {},
     "output_type": "display_data"
    },
    {
     "name": "stdout",
     "output_type": "stream",
     "text": [
      "+--------------------+-----+----------+\n",
      "|             content|label|prediction|\n",
      "+--------------------+-----+----------+\n",
      "|Alan Rickman & Em...|  0.0|       1.0|\n",
      "|I have seen this ...|  0.0|       1.0|\n",
      "|In Los Angeles, t...|  0.0|       0.0|\n",
      "|This film is bund...|  0.0|       0.0|\n",
      "|I only comment on...|  0.0|       0.0|\n",
      "+--------------------+-----+----------+\n",
      "only showing top 5 rows"
     ]
    }
   ],
   "source": [
    "# create the trainer and set its parameters\n",
    "rf = RandomForestClassifier(numTrees=80,maxDepth=3)\n",
    "\n",
    "# train the model\n",
    "model = rf.fit(train)\n",
    "\n",
    "# select example rows to display.\n",
    "prediction = model.transform(test)\n",
    "\n",
    "selected = prediction.select( \"content\", \"label\", \"prediction\")\n",
    "selected.show(5)"
   ]
  },
  {
   "cell_type": "markdown",
   "id": "c377aa2c-0129-4acc-8475-73c734dfb95d",
   "metadata": {},
   "source": [
    "### RF Model Evaluate\n",
    "\n",
    "#### AUC-ROC "
   ]
  },
  {
   "cell_type": "code",
   "execution_count": 11,
   "id": "311438d3-d5a8-4020-9975-2762d9135617",
   "metadata": {
    "execution": {
     "iopub.execute_input": "2022-04-20T05:13:08.138618Z",
     "iopub.status.busy": "2022-04-20T05:13:08.138357Z",
     "iopub.status.idle": "2022-04-20T05:16:05.833376Z",
     "shell.execute_reply": "2022-04-20T05:16:05.832763Z",
     "shell.execute_reply.started": "2022-04-20T05:13:08.138584Z"
    },
    "tags": []
   },
   "outputs": [
    {
     "data": {
      "application/vnd.jupyter.widget-view+json": {
       "model_id": "83ec8073da2849d5b7e6ff241bd421f9",
       "version_major": 2,
       "version_minor": 0
      },
      "text/plain": [
       "VBox()"
      ]
     },
     "metadata": {},
     "output_type": "display_data"
    },
    {
     "data": {
      "application/vnd.jupyter.widget-view+json": {
       "model_id": "",
       "version_major": 2,
       "version_minor": 0
      },
      "text/plain": [
       "FloatProgress(value=0.0, bar_style='info', description='Progress:', layout=Layout(height='25px', width='50%'),…"
      ]
     },
     "metadata": {},
     "output_type": "display_data"
    },
    {
     "name": "stdout",
     "output_type": "stream",
     "text": [
      "Test Accuracy = 0.76184\n",
      "Test Error = 0.23816"
     ]
    }
   ],
   "source": [
    "# compute accuracy on the test set\n",
    "evaluator = BinaryClassificationEvaluator(labelCol=\"label\", rawPredictionCol=\"prediction\", metricName=\"areaUnderROC\")\n",
    "accuracy = evaluator.evaluate(selected)\n",
    "\n",
    "print(\"Test Accuracy = %g\" % (accuracy))\n",
    "print(\"Test Error = %g \" % (1.0 - accuracy))"
   ]
  },
  {
   "cell_type": "markdown",
   "id": "19c24876-fa34-4413-9427-0fa7f4075316",
   "metadata": {},
   "source": [
    "#### Precision-Recall"
   ]
  },
  {
   "cell_type": "code",
   "execution_count": 12,
   "id": "66e20424-b511-4605-8b1b-9a30adbce291",
   "metadata": {
    "execution": {
     "iopub.execute_input": "2022-04-20T05:16:05.834452Z",
     "iopub.status.busy": "2022-04-20T05:16:05.834282Z",
     "iopub.status.idle": "2022-04-20T05:19:01.520310Z",
     "shell.execute_reply": "2022-04-20T05:19:01.519723Z",
     "shell.execute_reply.started": "2022-04-20T05:16:05.834431Z"
    },
    "tags": []
   },
   "outputs": [
    {
     "data": {
      "application/vnd.jupyter.widget-view+json": {
       "model_id": "b08eca7aea194a63b73315d97f69fca1",
       "version_major": 2,
       "version_minor": 0
      },
      "text/plain": [
       "VBox()"
      ]
     },
     "metadata": {},
     "output_type": "display_data"
    },
    {
     "data": {
      "application/vnd.jupyter.widget-view+json": {
       "model_id": "",
       "version_major": 2,
       "version_minor": 0
      },
      "text/plain": [
       "FloatProgress(value=0.0, bar_style='info', description='Progress:', layout=Layout(height='25px', width='50%'),…"
      ]
     },
     "metadata": {},
     "output_type": "display_data"
    },
    {
     "name": "stdout",
     "output_type": "stream",
     "text": [
      "Test Accuracy = 0.71998\n",
      "Test Error = 0.28002"
     ]
    }
   ],
   "source": [
    "# compute accuracy on the test set\n",
    "evaluator = BinaryClassificationEvaluator(labelCol=\"label\", rawPredictionCol=\"prediction\", metricName=\"areaUnderPR\")\n",
    "accuracy = evaluator.evaluate(selected)\n",
    "\n",
    "print(\"Test Accuracy = %g\" % (accuracy))\n",
    "print(\"Test Error = %g \" % (1.0 - accuracy))"
   ]
  },
  {
   "cell_type": "code",
   "execution_count": 13,
   "id": "e419fb00-2e19-4ab5-a7c9-07dad736b0cb",
   "metadata": {
    "execution": {
     "iopub.execute_input": "2022-04-20T05:19:01.521823Z",
     "iopub.status.busy": "2022-04-20T05:19:01.521635Z",
     "iopub.status.idle": "2022-04-20T05:19:01.570264Z",
     "shell.execute_reply": "2022-04-20T05:19:01.569597Z",
     "shell.execute_reply.started": "2022-04-20T05:19:01.521801Z"
    },
    "tags": []
   },
   "outputs": [
    {
     "data": {
      "application/vnd.jupyter.widget-view+json": {
       "model_id": "9bbf76157946497aad7178625a10c437",
       "version_major": 2,
       "version_minor": 0
      },
      "text/plain": [
       "VBox()"
      ]
     },
     "metadata": {},
     "output_type": "display_data"
    },
    {
     "data": {
      "application/vnd.jupyter.widget-view+json": {
       "model_id": "",
       "version_major": 2,
       "version_minor": 0
      },
      "text/plain": [
       "FloatProgress(value=0.0, bar_style='info', description='Progress:', layout=Layout(height='25px', width='50%'),…"
      ]
     },
     "metadata": {},
     "output_type": "display_data"
    }
   ],
   "source": [
    "# printBestParams(cvModel)\n",
    "\n",
    "# savemodel(cvModel.bestModel,'s3://myprojectsentiment/train_model/RF_tf')"
   ]
  },
  {
   "cell_type": "markdown",
   "id": "2368e9cb-a3cd-440c-aa5b-9c241c5cb4dd",
   "metadata": {},
   "source": [
    "## Multilayer Perceptron classifier"
   ]
  },
  {
   "cell_type": "code",
   "execution_count": 14,
   "id": "1d6147ff-66df-4837-b6b3-d6009355e18b",
   "metadata": {
    "execution": {
     "iopub.execute_input": "2022-04-20T05:19:01.571438Z",
     "iopub.status.busy": "2022-04-20T05:19:01.571262Z",
     "iopub.status.idle": "2022-04-20T05:27:53.109303Z",
     "shell.execute_reply": "2022-04-20T05:27:53.108554Z",
     "shell.execute_reply.started": "2022-04-20T05:19:01.571417Z"
    },
    "tags": []
   },
   "outputs": [
    {
     "data": {
      "application/vnd.jupyter.widget-view+json": {
       "model_id": "beed1cea1d324bc69baa2e0bfb23d4ec",
       "version_major": 2,
       "version_minor": 0
      },
      "text/plain": [
       "VBox()"
      ]
     },
     "metadata": {},
     "output_type": "display_data"
    },
    {
     "data": {
      "application/vnd.jupyter.widget-view+json": {
       "model_id": "",
       "version_major": 2,
       "version_minor": 0
      },
      "text/plain": [
       "FloatProgress(value=0.0, bar_style='info', description='Progress:', layout=Layout(height='25px', width='50%'),…"
      ]
     },
     "metadata": {},
     "output_type": "display_data"
    },
    {
     "name": "stdout",
     "output_type": "stream",
     "text": [
      "Test set accuracy = 0.79236"
     ]
    }
   ],
   "source": [
    "from pyspark.ml.classification import MultilayerPerceptronClassifier\n",
    "\n",
    "# specify layers for the neural network:\n",
    "# input layer of size 500 (features), four intermediate layer\n",
    "# and output of size 2 (classes)\n",
    "layers = [1500, 128, 32, 8, 2]\n",
    "\n",
    "# create the trainer and set its parameters\n",
    "trainer = MultilayerPerceptronClassifier(maxIter=100, layers=layers, blockSize=128, seed=1234)\n",
    "\n",
    "# train the model\n",
    "model = trainer.fit(train)\n",
    "\n",
    "# compute accuracy on the test set\n",
    "result = model.transform(test)\n",
    "\n",
    "predictionAndLabels = result.select(\"prediction\", \"label\")\n",
    "evaluator = MulticlassClassificationEvaluator(metricName=\"accuracy\")\n",
    "print(\"Test set accuracy = \" + str(evaluator.evaluate(predictionAndLabels)))"
   ]
  },
  {
   "cell_type": "markdown",
   "id": "f351eb75",
   "metadata": {},
   "source": [
    "## Save Result"
   ]
  },
  {
   "cell_type": "code",
   "execution_count": null,
   "id": "64f1d219",
   "metadata": {
    "execution": {
     "iopub.status.busy": "2022-04-20T06:57:45.355283Z",
     "iopub.status.idle": "2022-04-20T06:57:45.355668Z",
     "shell.execute_reply": "2022-04-20T06:57:45.355505Z"
    },
    "tags": []
   },
   "outputs": [],
   "source": [
    "import datetime\n",
    "\n",
    "# write prediction file with timestamp file name\n",
    "def savePrediction(lines, path):\n",
    "    to_day = datetime.datetime.today()\n",
    "    to_day = str(to_day)[0:19]\n",
    "    to_day = re.sub(\"[^0-9a-zA-Z$]+\",\"_\",to_day)\n",
    "    file_path = path + to_day\n",
    "    file_path.strip()\n",
    "    lines.coalesce(1).write.csv(file_path, header=True)\n",
    "    "
   ]
  },
  {
   "cell_type": "code",
   "execution_count": null,
   "id": "4f40223a",
   "metadata": {},
   "outputs": [],
   "source": [
    "savePrediction(predictionAndLabels,'s3://janev/output/project/')"
   ]
  }
 ],
 "metadata": {
  "kernelspec": {
   "display_name": "PySpark",
   "language": "",
   "name": "pysparkkernel"
  },
  "language_info": {
   "codemirror_mode": {
    "name": "python",
    "version": 3
   },
   "mimetype": "text/x-python",
   "name": "pyspark",
   "pygments_lexer": "python3"
  }
 },
 "nbformat": 4,
 "nbformat_minor": 5
}
